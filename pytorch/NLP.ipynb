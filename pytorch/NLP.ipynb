{
 "cells": [
  {
   "cell_type": "code",
   "execution_count": null,
   "id": "b4f29c18",
   "metadata": {},
   "outputs": [],
   "source": [
    "criterion = nn.CrossEntropyLoss()\n",
    "loss = criterion (prediction, target)\n",
    "\n",
    "class MyDataset(Dataset):\n",
    "    \n",
    "    def __init__(self):\n",
    "        \n",
    "    def __getitem__(self,i):\n",
    "        return self.sequences[i], self.targets[i]\n",
    "    \n",
    "    def __...\n",
    "    \n",
    "    \n",
    "class MyClassifier(nn.Module):\n",
    "    def __init__(self):\n",
    "        super(MyClassfier, self).__init__()\n",
    "        \n",
    "    def forward(sef,inputs):\n",
    "        x = F.relu(self.fc1(inputs))\n",
    "        x = F.relu(self.fc(x))\n",
    "        x = F.sigmoid(self,fc3(...))\n",
    "        \n",
    "\n",
    "for epoch in rang(n_epochs):\n",
    "    for inputs, target in loader:\n",
    "        optimizer.zero_grad()\n",
    "        \n",
    "        \n",
    "        \n",
    "        \n"
   ]
  }
 ],
 "metadata": {
  "kernelspec": {
   "display_name": "conda_pytorch_p36",
   "language": "python",
   "name": "conda_pytorch_p36"
  },
  "language_info": {
   "codemirror_mode": {
    "name": "ipython",
    "version": 3
   },
   "file_extension": ".py",
   "mimetype": "text/x-python",
   "name": "python",
   "nbconvert_exporter": "python",
   "pygments_lexer": "ipython3",
   "version": "3.6.13"
  }
 },
 "nbformat": 4,
 "nbformat_minor": 5
}
