{
 "cells": [
  {
   "cell_type": "code",
   "execution_count": 5,
   "id": "f86e2df4",
   "metadata": {},
   "outputs": [],
   "source": [
    "#input convolutional network accepts 2-dim and 3-dim -\n",
    "#kernel size - 3x3\n",
    "#sliding window principle \n",
    "#polling principle - e.g  max pooling  \n",
    "#multiple layers - 3-4-5. \n",
    "#cats vs dogs \n",
    "\n",
    "#cats vs dogs microsoft datasets\n",
    "#https://www.microsoft.com/en-us/download/details.aspx?id=54765\n",
    "\n",
    "import os\n",
    "import cv2\n",
    "import numpy as np\n",
    "from tqdm import tqdm\n",
    "\n",
    "#flag for preprocessing / alternative seperate\n",
    "REBUILD_DATA = True\n",
    "\n"
   ]
  },
  {
   "cell_type": "code",
   "execution_count": 28,
   "id": "afbc23b8",
   "metadata": {},
   "outputs": [],
   "source": [
    "\n",
    "\n",
    "class DogsVSCats():\n",
    "    IMG_SIZE=50\n",
    "    CATS = \"PetImages/Cat\"\n",
    "    DOGS = \"PetImages/Dog\"\n",
    "    LABELS = {CATS: 0, DOGS: 1} # we should one hot encode this\n",
    "    training_data = []\n",
    "    catcount = 0\n",
    "    dogcount = 0\n",
    "    \n",
    "    def make_training_data(self):\n",
    "        for label in self.LABELS:\n",
    "            print(label)\n",
    "            \n",
    "            #list over directory\n",
    "            for f in tqdm(os.listdir(label)):\n",
    "                try:\n",
    "                    path = os.path.join(label, f)\n",
    "                    img = cv2.imread(path, cv2.IMREAD_GRAYSCALE)\n",
    "                    img = cv2.resize(img, (self.IMG_SIZE, self.IMG_SIZE))\n",
    "                    self.training_data.append([np.array(img), np.eye(2)[self.LABELS[label]]])\n",
    "                        \n",
    "                    if label == self.CATS:\n",
    "                        self.catcount +=1\n",
    "                    elif label == self.DOGS:\n",
    "                        self.dogcount +=1\n",
    "                except Exception as e:\n",
    "                    #print(e)\n",
    "                    pass\n",
    "                \n",
    "        \n",
    "        np.random.shuffle(self.training_data)\n",
    "        np.save(\"training_data.npy\", self.training_data)\n",
    "        print(\"Cats:\", self.catcount)\n",
    "        print(\"Dogs:\",self.dogcount)\n"
   ]
  },
  {
   "cell_type": "code",
   "execution_count": 29,
   "id": "f6713201",
   "metadata": {},
   "outputs": [
    {
     "name": "stderr",
     "output_type": "stream",
     "text": [
      "  1%|          | 88/12501 [00:00<00:14, 876.59it/s]"
     ]
    },
    {
     "name": "stdout",
     "output_type": "stream",
     "text": [
      "PetImages/Cat\n"
     ]
    },
    {
     "name": "stderr",
     "output_type": "stream",
     "text": [
      "100%|██████████| 12501/12501 [00:14<00:00, 886.63it/s]\n",
      "  1%|          | 66/12501 [00:00<00:19, 651.81it/s]"
     ]
    },
    {
     "name": "stdout",
     "output_type": "stream",
     "text": [
      "PetImages/Dog\n"
     ]
    },
    {
     "name": "stderr",
     "output_type": "stream",
     "text": [
      "100%|██████████| 12501/12501 [00:18<00:00, 678.15it/s]\n"
     ]
    },
    {
     "name": "stdout",
     "output_type": "stream",
     "text": [
      "Cats: 12476\n",
      "Dogs: 12470\n"
     ]
    }
   ],
   "source": [
    "if REBUILD_DATA:\n",
    "    dogsvcats = DogsVSCats()\n",
    "    dogsvcats.make_training_data()\n",
    "\n",
    "\n"
   ]
  },
  {
   "cell_type": "code",
   "execution_count": 31,
   "id": "77129f11",
   "metadata": {},
   "outputs": [],
   "source": [
    "REBUILD_DATA = False\n",
    "\n",
    "training_data = np.load(\"training_data.npy\", allow_pickle=True)"
   ]
  },
  {
   "cell_type": "code",
   "execution_count": 32,
   "id": "61a2ddaa",
   "metadata": {},
   "outputs": [
    {
     "name": "stdout",
     "output_type": "stream",
     "text": [
      "24946\n"
     ]
    }
   ],
   "source": [
    "print(len(training_data))"
   ]
  },
  {
   "cell_type": "code",
   "execution_count": 33,
   "id": "3a519fde",
   "metadata": {},
   "outputs": [
    {
     "name": "stdout",
     "output_type": "stream",
     "text": [
      "[array([[ 73,  74,  73, ..., 172, 173, 172],\n",
      "       [ 73,  73,  74, ..., 171, 172, 168],\n",
      "       [ 73,  72,  73, ..., 172, 173, 172],\n",
      "       ...,\n",
      "       [ 70,  78,  75, ..., 164, 171, 171],\n",
      "       [ 68,  83,  88, ..., 167, 166, 168],\n",
      "       [ 79,  65,  78, ..., 168, 167, 171]], dtype=uint8)\n",
      " array([1., 0.])]\n"
     ]
    }
   ],
   "source": [
    "print(training_data[0])"
   ]
  },
  {
   "cell_type": "code",
   "execution_count": 42,
   "id": "60ccb2ad",
   "metadata": {},
   "outputs": [
    {
     "name": "stdout",
     "output_type": "stream",
     "text": [
      "(24946, 2)\n",
      "[1. 0.]\n"
     ]
    },
    {
     "data": {
      "image/png": "[encoded data removed]",
      "text/plain": [
       "<Figure size 432x288 with 1 Axes>"
      ]
     },
     "metadata": {
      "needs_background": "light"
     },
     "output_type": "display_data"
    }
   ],
   "source": [
    "import matplotlib.pyplot as plt\n",
    "\n",
    "print(training_data.shape)\n",
    "plt.imshow(training_data[2][0], cmap=\"gray\")\n",
    "print(training_data[2][1])"
   ]
  }
 ],
 "metadata": {
  "kernelspec": {
   "display_name": "conda_amazonei_pytorch_latest_p36",
   "language": "python",
   "name": "conda_amazonei_pytorch_latest_p36"
  },
  "language_info": {
   "codemirror_mode": {
    "name": "ipython",
    "version": 3
   },
   "file_extension": ".py",
   "mimetype": "text/x-python",
   "name": "python",
   "nbconvert_exporter": "python",
   "pygments_lexer": "ipython3",
   "version": "3.6.13"
  }
 },
 "nbformat": 4,
 "nbformat_minor": 5
}
