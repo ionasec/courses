{
 "cells": [
  {
   "cell_type": "code",
   "execution_count": 1,
   "id": "b1fd0d9c",
   "metadata": {},
   "outputs": [],
   "source": [
    "#input convolutional network accepts 2-dim and 3-dim -\n",
    "#kernel size - 3x3\n",
    "#sliding window principle \n",
    "#polling principle - e.g  max pooling  \n",
    "#multiple layers - 3-4-5. \n",
    "#cats vs dogs \n",
    "\n",
    "#cats vs dogs microsoft datasets\n",
    "#https://www.microsoft.com/en-us/download/details.aspx?id=54765\n",
    "\n",
    "import os\n",
    "import cv2\n",
    "import numpy as np\n",
    "from tqdm import tqdm\n",
    "\n",
    "#flag for preprocessing / alternative seperate\n",
    "REBUILD_DATA = TRUE\n",
    "\n",
    "class DogsVSCats():\n",
    "    IMG_SIZE=50\n",
    "    CATS = \"PetImages/Cat\"\n",
    "    DOGS = \"PetImages/Dog\"\n",
    "    LABELS = {CATS: 0, DOGS: 1} # we should one hot encode this\n",
    "    training_data = []\n",
    "    catcount = 0\n",
    "    dogcount = 0\n",
    "    \n",
    "    def make_training_data(self):\n",
    "        for label in self.LABELS:\n",
    "            print(label)\n",
    "            \n",
    "            #list over directory\n",
    "            for f in tqdm(os.listdir(label)):\n",
    "                path = os.path.join(label, f)\n",
    "                img = cv2.imread(path, cv2.IMREAD.GRAYSCALE)\n",
    "                \n",
    "            \n"
   ]
  }
 ],
 "metadata": {
  "kernelspec": {
   "display_name": "conda_amazonei_pytorch_latest_p36",
   "language": "python",
   "name": "conda_amazonei_pytorch_latest_p36"
  },
  "language_info": {
   "codemirror_mode": {
    "name": "ipython",
    "version": 3
   },
   "file_extension": ".py",
   "mimetype": "text/x-python",
   "name": "python",
   "nbconvert_exporter": "python",
   "pygments_lexer": "ipython3",
   "version": "3.6.13"
  }
 },
 "nbformat": 4,
 "nbformat_minor": 5
}
