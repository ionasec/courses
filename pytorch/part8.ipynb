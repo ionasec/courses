{
 "cells": [
  {
   "cell_type": "code",
   "execution_count": 108,
   "id": "70223728",
   "metadata": {},
   "outputs": [],
   "source": [
    "#input convolutional network accepts 2-dim and 3-dim -\n",
    "#kernel size - 3x3\n",
    "#sliding window principle \n",
    "#polling principle - e.g  max pooling  \n",
    "#multiple layers - 3-4-5. \n",
    "#cats vs dogs \n",
    "\n",
    "#cats vs dogs microsoft datasets\n",
    "#https://www.microsoft.com/en-us/download/details.aspx?id=54765\n",
    "\n",
    "import os\n",
    "import cv2\n",
    "import numpy as np\n",
    "from tqdm import tqdm\n",
    "import torch\n",
    "import torch.nn as nn\n",
    "import torch.nn.functional as F\n",
    "\n",
    "\n",
    "#flag for preprocessing / alternative seperate\n",
    "REBUILD_DATA = False\n",
    "\n"
   ]
  },
  {
   "cell_type": "code",
   "execution_count": 109,
   "id": "859fed7d",
   "metadata": {},
   "outputs": [],
   "source": [
    "\n",
    "\n",
    "class DogsVSCats():\n",
    "    IMG_SIZE=50\n",
    "    CATS = \"PetImages/Cat\"\n",
    "    DOGS = \"PetImages/Dog\"\n",
    "    LABELS = {CATS: 0, DOGS: 1} # we should one hot encode this\n",
    "    training_data = []\n",
    "    catcount = 0\n",
    "    dogcount = 0\n",
    "    \n",
    "    def make_training_data(self):\n",
    "        for label in self.LABELS:\n",
    "            print(label)\n",
    "            \n",
    "            #list over directory\n",
    "            for f in tqdm(os.listdir(label)):\n",
    "                try:\n",
    "                    path = os.path.join(label, f)\n",
    "                    img = cv2.imread(path, cv2.IMREAD_GRAYSCALE)\n",
    "                    img = cv2.resize(img, (self.IMG_SIZE, self.IMG_SIZE))\n",
    "                    self.training_data.append([np.array(img), np.eye(2)[self.LABELS[label]]])\n",
    "                        \n",
    "                    if label == self.CATS:\n",
    "                        self.catcount +=1\n",
    "                    elif label == self.DOGS:\n",
    "                        self.dogcount +=1\n",
    "                except Exception as e:\n",
    "                    #print(e)\n",
    "                    pass\n",
    "                \n",
    "        \n",
    "        np.random.shuffle(self.training_data)\n",
    "        np.save(\"training_data.npy\", self.training_data)\n",
    "        print(\"Cats:\", self.catcount)\n",
    "        print(\"Dogs:\",self.dogcount)\n"
   ]
  },
  {
   "cell_type": "code",
   "execution_count": 110,
   "id": "a79abead",
   "metadata": {},
   "outputs": [],
   "source": [
    "if REBUILD_DATA:\n",
    "    dogsvcats = DogsVSCats()\n",
    "    dogsvcats.make_training_data()\n",
    "\n",
    "\n"
   ]
  },
  {
   "cell_type": "code",
   "execution_count": 111,
   "id": "8884a173",
   "metadata": {},
   "outputs": [],
   "source": [
    "REBUILD_DATA = False\n",
    "\n",
    "training_data = np.load(\"training_data.npy\", allow_pickle=True)"
   ]
  },
  {
   "cell_type": "code",
   "execution_count": 112,
   "id": "51714178",
   "metadata": {},
   "outputs": [
    {
     "name": "stdout",
     "output_type": "stream",
     "text": [
      "24946\n"
     ]
    }
   ],
   "source": [
    "print(len(training_data))"
   ]
  },
  {
   "cell_type": "code",
   "execution_count": 113,
   "id": "c429ad32",
   "metadata": {},
   "outputs": [
    {
     "name": "stdout",
     "output_type": "stream",
     "text": [
      "[array([[ 76,  77,  69, ..., 195, 191, 191],\n",
      "       [ 75,  73,  70, ..., 193, 193, 191],\n",
      "       [ 77,  71,  71, ..., 192, 191, 192],\n",
      "       ...,\n",
      "       [ 73,  69,  69, ..., 190, 204, 209],\n",
      "       [ 70,  68,  66, ..., 182, 205, 219],\n",
      "       [ 65,  66,  62, ..., 177, 208, 238]], dtype=uint8)\n",
      " array([1., 0.])]\n"
     ]
    }
   ],
   "source": [
    "print(training_data[0])"
   ]
  },
  {
   "cell_type": "code",
   "execution_count": 114,
   "id": "21feede1",
   "metadata": {},
   "outputs": [
    {
     "name": "stdout",
     "output_type": "stream",
     "text": [
      "(24946, 2)\n",
      "[1. 0.]\n"
     ]
    },
    {
     "data": {
      "image/png": "[encoded data removed]",
      "text/plain": [
       "<Figure size 432x288 with 1 Axes>"
      ]
     },
     "metadata": {
      "needs_background": "light"
     },
     "output_type": "display_data"
    }
   ],
   "source": [
    "import matplotlib.pyplot as plt\n",
    "\n",
    "print(training_data.shape)\n",
    "plt.imshow(training_data[2][0], cmap=\"gray\")\n",
    "print(training_data[2][1])"
   ]
  },
  {
   "cell_type": "code",
   "execution_count": 115,
   "id": "b867536f",
   "metadata": {},
   "outputs": [],
   "source": [
    "\n",
    "class Net (nn.Module):\n",
    "    def __init__(self):\n",
    "        super().__init__()\n",
    "        self.conv1 = nn.Conv2d(1,32,5)\n",
    "        self.conv2 = nn.Conv2d(32,64,5)\n",
    "        self.conv3 = nn.Conv2d(64,128,5)\n",
    "        \n",
    "        x = torch.randn(50,50).view(-1,1,50,50)\n",
    "        self._to_linear = None\n",
    "        self.convs(x)\n",
    "        \n",
    "        self.fc1 = nn.Linear(self._to_linear,512)\n",
    "        self.fc2 = nn.Linear(512,2)\n",
    "        \n",
    "    def convs(self,x):\n",
    "        x = F.max_pool2d(F.relu(self.conv1(x)), (2,2)) \n",
    "        x = F.max_pool2d(F.relu(self.conv2(x)), (2,2)) \n",
    "        x = F.max_pool2d(F.relu(self.conv3(x)), (2,2)) \n",
    "        \n",
    "      #  print(x[0].shape)\n",
    "        if self._to_linear is None:\n",
    "            self._to_linear = x[0].shape[0]*x[0].shape[1]*x[0].shape[2]\n",
    "        return x\n",
    "    \n",
    "    def forward(self, x):\n",
    "        x = self.convs(x)\n",
    "        x = x.view(-1, self._to_linear)\n",
    "        x = F.relu(self.fc1(x))\n",
    "        x = self.fc2(x)\n",
    "        return F.softmax(x, dim=1)\n",
    "        \n",
    "        \n",
    "     "
   ]
  },
  {
   "cell_type": "code",
   "execution_count": 116,
   "id": "9dbc219f",
   "metadata": {},
   "outputs": [
    {
     "name": "stdout",
     "output_type": "stream",
     "text": [
      "running on the GPU\n"
     ]
    },
    {
     "data": {
      "text/plain": [
       "1"
      ]
     },
     "execution_count": 116,
     "metadata": {},
     "output_type": "execute_result"
    }
   ],
   "source": [
    "device = torch.device(\"cuda:0\")\n",
    "device\n",
    "\n",
    "if torch.cuda.is_available():\n",
    "    device = torch.device(\"cuda:0\")\n",
    "    print(\"running on the GPU\")\n",
    "else:\n",
    "    device = torch.device(\"cpu\")\n",
    "    print (\"running on the CPU\")\n",
    "    \n",
    "torch.cuda.device_count()"
   ]
  },
  {
   "cell_type": "code",
   "execution_count": 117,
   "id": "82b6c1d8",
   "metadata": {},
   "outputs": [],
   "source": [
    "net = Net().to(device)"
   ]
  },
  {
   "cell_type": "code",
   "execution_count": null,
   "id": "9f5f2c4f",
   "metadata": {},
   "outputs": [],
   "source": []
  },
  {
   "cell_type": "code",
   "execution_count": null,
   "id": "18aa409e",
   "metadata": {},
   "outputs": [],
   "source": []
  },
  {
   "cell_type": "code",
   "execution_count": 118,
   "id": "9a7abd01",
   "metadata": {},
   "outputs": [
    {
     "name": "stdout",
     "output_type": "stream",
     "text": [
      "22452\n",
      "2494\n"
     ]
    }
   ],
   "source": [
    "import torch.optim as optim\n",
    "\n",
    "optimizer = optim.Adam(net.parameters(), lr =0.001)\n",
    "loss_function = nn.MSELoss()\n",
    "\n",
    "X = torch.Tensor([i[0] for i in training_data]).view(-1,50,50)\n",
    "X = X/255.0\n",
    "y = torch.Tensor([i[1] for i in training_data])\n",
    "\n",
    "VAL_PCT = 0.1\n",
    "val_size = int(len(X)*VAL_PCT)\n",
    "#print(val_size)\n",
    "\n",
    "train_X = X[:-val_size]\n",
    "train_y = y[:-val_size]\n",
    "\n",
    "test_X = X[-val_size:]\n",
    "test_y = y[-val_size:]\n",
    "\n",
    "print(len(train_X))\n",
    "print(len(test_X))\n"
   ]
  },
  {
   "cell_type": "code",
   "execution_count": 119,
   "id": "f470c4ab",
   "metadata": {},
   "outputs": [
    {
     "name": "stderr",
     "output_type": "stream",
     "text": [
      "100%|██████████| 225/225 [00:02<00:00, 106.32it/s]\n",
      "  5%|▌         | 12/225 [00:00<00:01, 117.88it/s]"
     ]
    },
    {
     "name": "stdout",
     "output_type": "stream",
     "text": [
      "Epoche :0. Loss:0.23214152455329895\n"
     ]
    },
    {
     "name": "stderr",
     "output_type": "stream",
     "text": [
      "100%|██████████| 225/225 [00:02<00:00, 111.39it/s]\n",
      "  5%|▌         | 12/225 [00:00<00:01, 116.78it/s]"
     ]
    },
    {
     "name": "stdout",
     "output_type": "stream",
     "text": [
      "Epoche :1. Loss:0.20911255478858948\n"
     ]
    },
    {
     "name": "stderr",
     "output_type": "stream",
     "text": [
      "100%|██████████| 225/225 [00:02<00:00, 111.31it/s]\n",
      "  5%|▌         | 12/225 [00:00<00:01, 117.57it/s]"
     ]
    },
    {
     "name": "stdout",
     "output_type": "stream",
     "text": [
      "Epoche :2. Loss:0.20062516629695892\n"
     ]
    },
    {
     "name": "stderr",
     "output_type": "stream",
     "text": [
      "100%|██████████| 225/225 [00:02<00:00, 111.31it/s]\n",
      "  5%|▌         | 12/225 [00:00<00:01, 118.48it/s]"
     ]
    },
    {
     "name": "stdout",
     "output_type": "stream",
     "text": [
      "Epoche :3. Loss:0.19448335468769073\n"
     ]
    },
    {
     "name": "stderr",
     "output_type": "stream",
     "text": [
      "100%|██████████| 225/225 [00:02<00:00, 111.24it/s]"
     ]
    },
    {
     "name": "stdout",
     "output_type": "stream",
     "text": [
      "Epoche :4. Loss:0.15278910100460052\n"
     ]
    },
    {
     "name": "stderr",
     "output_type": "stream",
     "text": [
      "\n"
     ]
    }
   ],
   "source": [
    "\n",
    "\n",
    "def train(net):\n",
    "    optimizer = optim.Adam(net.parameters(), lr=0.001)\n",
    "    BATCH_SIZE = 100\n",
    "    EPOCHS = 5\n",
    "\n",
    "    for epoch in range(EPOCHS):\n",
    "        for i in tqdm(range(0, len(train_X), BATCH_SIZE)):\n",
    "            #print(i, i+BATCH_SIZE)\n",
    "            batch_X = train_X[i:i+BATCH_SIZE].view(-1,1,50,50)\n",
    "            batch_y = train_y[i:i+BATCH_SIZE]\n",
    "\n",
    "            batch_X, batch_y = batch_X.to(device), batch_y.to(device)\n",
    "            net.zero_grad()\n",
    "            optimizer.zero_grad()   # zero the gradient buffers\n",
    "            \n",
    "            outputs = net(batch_X)\n",
    "            loss = loss_function(outputs,batch_y)\n",
    "            loss.backward()\n",
    "            optimizer.step()\n",
    "            \n",
    "        print(f\"Epoche :{epoch}. Loss:{loss}\")\n",
    "        \n",
    "#train(net)"
   ]
  },
  {
   "cell_type": "code",
   "execution_count": 120,
   "id": "28609dff",
   "metadata": {},
   "outputs": [
    {
     "name": "stdout",
     "output_type": "stream",
     "text": [
      "0.7625 tensor(0.1690, device='cuda:0')\n"
     ]
    }
   ],
   "source": [
    "def fwd_pass(X,y, train=False):\n",
    "    if train:\n",
    "        net.zero_grad()\n",
    "    outputs = net(X)\n",
    "    matches = [torch.argmax(i) == torch.argmax(j) for i, j in zip(outputs,y)]\n",
    "    acc = matches.count(True)/len(matches)\n",
    "    loss = loss_function(outputs, y)\n",
    "    \n",
    "    if train:\n",
    "        loss.backward()\n",
    "        optimizer.step()\n",
    "    return acc, loss\n",
    "\n",
    "def test(size=32):\n",
    "    random_start = np.random.randint(len(test_X) - size)\n",
    "    X, y = test_X[random_start:random_start+size], test_y[random_start:random_start+size]\n",
    "    with torch.no_grad():\n",
    "        val_acc, val_loss = fwd_pass(X.view(-1,1,50,50).to(device), y.to(device))\n",
    "    return val_acc, val_loss\n",
    "\n",
    "val_acc, val_loss = test(size=320)\n",
    "print(val_acc,val_loss)\n",
    "    \n",
    "    "
   ]
  },
  {
   "cell_type": "code",
   "execution_count": 128,
   "id": "3aa372de",
   "metadata": {},
   "outputs": [
    {
     "name": "stderr",
     "output_type": "stream",
     "text": [
      "  2%|▏         | 4/225 [00:00<00:06, 32.49it/s]"
     ]
    },
    {
     "name": "stdout",
     "output_type": "stream",
     "text": [
      "model-1632929827\n"
     ]
    },
    {
     "name": "stderr",
     "output_type": "stream",
     "text": [
      "100%|██████████| 225/225 [00:05<00:00, 41.44it/s]\n",
      "100%|██████████| 225/225 [00:05<00:00, 41.84it/s]\n",
      "100%|██████████| 225/225 [00:05<00:00, 41.99it/s]\n",
      "100%|██████████| 225/225 [00:05<00:00, 41.92it/s]\n",
      "100%|██████████| 225/225 [00:05<00:00, 41.98it/s]\n",
      "100%|██████████| 225/225 [00:05<00:00, 41.91it/s]\n",
      "100%|██████████| 225/225 [00:05<00:00, 41.42it/s]\n",
      "100%|██████████| 225/225 [00:05<00:00, 41.83it/s]\n",
      "100%|██████████| 225/225 [00:05<00:00, 41.79it/s]\n",
      "100%|██████████| 225/225 [00:05<00:00, 41.72it/s]\n",
      "100%|██████████| 225/225 [00:05<00:00, 41.64it/s]\n",
      "100%|██████████| 225/225 [00:05<00:00, 41.81it/s]\n",
      "100%|██████████| 225/225 [00:05<00:00, 41.90it/s]\n",
      "100%|██████████| 225/225 [00:05<00:00, 41.95it/s]\n",
      "100%|██████████| 225/225 [00:05<00:00, 42.05it/s]\n",
      "100%|██████████| 225/225 [00:05<00:00, 41.83it/s]\n",
      "100%|██████████| 225/225 [00:05<00:00, 41.78it/s]\n",
      "100%|██████████| 225/225 [00:05<00:00, 41.98it/s]\n",
      "100%|██████████| 225/225 [00:05<00:00, 41.48it/s]\n",
      "100%|██████████| 225/225 [00:05<00:00, 42.02it/s]\n",
      "100%|██████████| 225/225 [00:05<00:00, 41.92it/s]\n",
      "100%|██████████| 225/225 [00:05<00:00, 42.10it/s]\n",
      "100%|██████████| 225/225 [00:05<00:00, 41.94it/s]\n",
      "100%|██████████| 225/225 [00:05<00:00, 41.86it/s]\n",
      "100%|██████████| 225/225 [00:05<00:00, 41.69it/s]\n",
      "100%|██████████| 225/225 [00:05<00:00, 41.88it/s]\n",
      "100%|██████████| 225/225 [00:05<00:00, 41.94it/s]\n",
      "100%|██████████| 225/225 [00:05<00:00, 42.06it/s]\n",
      "100%|██████████| 225/225 [00:05<00:00, 41.73it/s]\n",
      "100%|██████████| 225/225 [00:05<00:00, 41.74it/s]\n"
     ]
    }
   ],
   "source": [
    "import time\n",
    "\n",
    "MODEL_NAME = f\"model-{int(time.time())}\"\n",
    "\n",
    "net = Net().to(device)\n",
    "optimizer = optim.Adam(net.parameters(), lr =0.001)\n",
    "loss_function = nn.MSELoss()\n",
    "\n",
    "print(MODEL_NAME)\n",
    "\n",
    "def train():\n",
    "    BATCH_SIZE = 100\n",
    "    EPOCHS =30\n",
    "    \n",
    "    with open(\"model.log\", \"a\") as f:\n",
    "        for epoch in range(EPOCHS):\n",
    "            for i in tqdm(range(0, len(train_X), BATCH_SIZE)):\n",
    "                #print(i, i+BATCH_SIZE)\n",
    "                batch_X = train_X[i:i+BATCH_SIZE].view(-1,1,50,50).to(device)\n",
    "                batch_y = train_y[i:i+BATCH_SIZE].to(device)\n",
    "                \n",
    "                acc, loss = fwd_pass(batch_X, batch_y, train=True)\n",
    "                if i%100 == 0:\n",
    "                    val_acc, val_loss = test(size=100)\n",
    "                    f.write(f\"{MODEL_NAME},{round(time.time(),3)},{round(float(acc),2)},{round(float(loss),4)},{round(float(val_acc),2)},{round(float(val_loss),4)}\\n\")\n",
    "                    \n",
    "train()"
   ]
  },
  {
   "cell_type": "code",
   "execution_count": null,
   "id": "7ac96ce0",
   "metadata": {},
   "outputs": [],
   "source": [
    "test_X.to(device)\n",
    "test_y.to(device)\n",
    "\n",
    "def test(net):\n",
    "    correct = 0\n",
    "    total = 0\n",
    "    with torch.no_grad():\n",
    "        for i in tqdm(range(len(test_X))):\n",
    "            real_class = torch.argmax(test_y[i].to(device))\n",
    "            net_out = net(test_X[i].view(-1,1,50,50).to(device))[0]\n",
    "            predicted_class = torch.argmax(net_out)\n",
    "            if predicted_class == real_class:\n",
    "                correct +=1\n",
    "            total +=1\n",
    "\n",
    "    print(correct)\n",
    "    print(total)\n",
    "    print(\"accuracy\", round(correct/total,3))\n",
    "\n",
    "test(net)"
   ]
  },
  {
   "cell_type": "code",
   "execution_count": null,
   "id": "8a77bc78",
   "metadata": {},
   "outputs": [],
   "source": []
  },
  {
   "cell_type": "code",
   "execution_count": null,
   "id": "71adba25",
   "metadata": {},
   "outputs": [],
   "source": []
  },
  {
   "cell_type": "code",
   "execution_count": null,
   "id": "bc8fee6c",
   "metadata": {},
   "outputs": [],
   "source": []
  }
 ],
 "metadata": {
  "kernelspec": {
   "display_name": "conda_pytorch_p36",
   "language": "python",
   "name": "conda_pytorch_p36"
  },
  "language_info": {
   "codemirror_mode": {
    "name": "ipython",
    "version": 3
   },
   "file_extension": ".py",
   "mimetype": "text/x-python",
   "name": "python",
   "nbconvert_exporter": "python",
   "pygments_lexer": "ipython3",
   "version": "3.6.13"
  }
 },
 "nbformat": 4,
 "nbformat_minor": 5
}
