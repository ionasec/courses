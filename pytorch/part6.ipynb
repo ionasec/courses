{
 "cells": [
  {
   "cell_type": "code",
   "execution_count": 9,
   "id": "3615b0c2",
   "metadata": {},
   "outputs": [],
   "source": [
    "#input convolutional network accepts 2-dim and 3-dim -\n",
    "#kernel size - 3x3\n",
    "#sliding window principle \n",
    "#polling principle - e.g  max pooling  \n",
    "#multiple layers - 3-4-5. \n",
    "#cats vs dogs \n",
    "\n",
    "#cats vs dogs microsoft datasets\n",
    "#https://www.microsoft.com/en-us/download/details.aspx?id=54765\n",
    "\n",
    "import os\n",
    "import cv2\n",
    "import numpy as np\n",
    "from tqdm import tqdm\n",
    "\n",
    "#flag for preprocessing / alternative seperate\n",
    "REBUILD_DATA = True\n",
    "\n"
   ]
  },
  {
   "cell_type": "code",
   "execution_count": 10,
   "id": "0d8dfa39",
   "metadata": {},
   "outputs": [],
   "source": [
    "\n",
    "\n",
    "class DogsVSCats():\n",
    "    IMG_SIZE=50\n",
    "    CATS = \"PetImages/Cat\"\n",
    "    DOGS = \"PetImages/Dog\"\n",
    "    LABELS = {CATS: 0, DOGS: 1} # we should one hot encode this\n",
    "    training_data = []\n",
    "    catcount = 0\n",
    "    dogcount = 0\n",
    "    \n",
    "    def make_training_data(self):\n",
    "        for label in self.LABELS:\n",
    "            print(label)\n",
    "            \n",
    "            #list over directory\n",
    "            for f in tqdm(os.listdir(label)):\n",
    "                try:\n",
    "                    path = os.path.join(label, f)\n",
    "                    img = cv2.imread(path, cv2.IMREAD_GRAYSCALE)\n",
    "                    img = cv2.resize(img, (self.IMG_SIZE, self.IMG_SIZE))\n",
    "                    self.training_data.append([np.array(img), np.eye(2)[self.LABELS[label]]])\n",
    "                        \n",
    "                    if label == self.CATS:\n",
    "                        self.catcount +=1\n",
    "                    elif label == self.DOGS:\n",
    "                        self.dogcount +=1\n",
    "                except Exception as e:\n",
    "                    #print(e)\n",
    "                    pass\n",
    "                \n",
    "        \n",
    "        np.random.shuffle(self.training_data)\n",
    "        np.save(\"training_data.npy\", self.training_data)\n",
    "        print(\"Cats:\", self.catcount)\n",
    "        print(\"Dogs:\",self.dogcount)\n"
   ]
  },
  {
   "cell_type": "code",
   "execution_count": 11,
   "id": "c2d26b23",
   "metadata": {},
   "outputs": [
    {
     "name": "stderr",
     "output_type": "stream",
     "text": [
      "  0%|          | 0/12501 [00:00<?, ?it/s]"
     ]
    },
    {
     "name": "stdout",
     "output_type": "stream",
     "text": [
      "PetImages/Cat\n"
     ]
    },
    {
     "name": "stderr",
     "output_type": "stream",
     "text": [
      "100%|██████████| 12501/12501 [00:26<00:00, 476.59it/s]\n",
      "  0%|          | 43/12501 [00:00<00:29, 428.54it/s]"
     ]
    },
    {
     "name": "stdout",
     "output_type": "stream",
     "text": [
      "PetImages/Dog\n"
     ]
    },
    {
     "name": "stderr",
     "output_type": "stream",
     "text": [
      "100%|██████████| 12501/12501 [00:26<00:00, 467.48it/s]\n"
     ]
    },
    {
     "name": "stdout",
     "output_type": "stream",
     "text": [
      "Cats: 12476\n",
      "Dogs: 12470\n"
     ]
    }
   ],
   "source": [
    "if REBUILD_DATA:\n",
    "    dogsvcats = DogsVSCats()\n",
    "    dogsvcats.make_training_data()\n",
    "\n",
    "\n"
   ]
  },
  {
   "cell_type": "code",
   "execution_count": 12,
   "id": "75be55a1",
   "metadata": {},
   "outputs": [],
   "source": [
    "REBUILD_DATA = False\n",
    "\n",
    "training_data = np.load(\"training_data.npy\", allow_pickle=True)"
   ]
  },
  {
   "cell_type": "code",
   "execution_count": 13,
   "id": "567780ee",
   "metadata": {},
   "outputs": [
    {
     "name": "stdout",
     "output_type": "stream",
     "text": [
      "24946\n"
     ]
    }
   ],
   "source": [
    "print(len(training_data))"
   ]
  },
  {
   "cell_type": "code",
   "execution_count": 33,
   "id": "430971fd",
   "metadata": {},
   "outputs": [
    {
     "name": "stdout",
     "output_type": "stream",
     "text": [
      "[array([[ 73,  74,  73, ..., 172, 173, 172],\n",
      "       [ 73,  73,  74, ..., 171, 172, 168],\n",
      "       [ 73,  72,  73, ..., 172, 173, 172],\n",
      "       ...,\n",
      "       [ 70,  78,  75, ..., 164, 171, 171],\n",
      "       [ 68,  83,  88, ..., 167, 166, 168],\n",
      "       [ 79,  65,  78, ..., 168, 167, 171]], dtype=uint8)\n",
      " array([1., 0.])]\n"
     ]
    }
   ],
   "source": [
    "print(training_data[0])"
   ]
  },
  {
   "cell_type": "code",
   "execution_count": 14,
   "id": "c1f76e6b",
   "metadata": {},
   "outputs": [
    {
     "name": "stdout",
     "output_type": "stream",
     "text": [
      "(24946, 2)\n",
      "[1. 0.]\n"
     ]
    },
    {
     "data": {
      "image/png": "[encoded data removed]",
      "text/plain": [
       "<Figure size 432x288 with 1 Axes>"
      ]
     },
     "metadata": {
      "needs_background": "light"
     },
     "output_type": "display_data"
    }
   ],
   "source": [
    "import matplotlib.pyplot as plt\n",
    "\n",
    "print(training_data.shape)\n",
    "plt.imshow(training_data[2][0], cmap=\"gray\")\n",
    "print(training_data[2][1])"
   ]
  },
  {
   "cell_type": "code",
   "execution_count": 27,
   "id": "14b6cbe3",
   "metadata": {},
   "outputs": [],
   "source": [
    "import torch\n",
    "import torch.nn as nn\n",
    "import torch.nn.functional as F\n",
    "\n",
    "class Net (nn.Module):\n",
    "    def __init__(self):\n",
    "        super().__init__()\n",
    "        self.conv1 = nn.Conv2d(1,32,5)\n",
    "        self.conv2 = nn.Conv2d(32,64,5)\n",
    "        self.conv3 = nn.Conv2d(64,128,5)\n",
    "        \n",
    "        x = torch.randn(50,50).view(-1,1,50,50)\n",
    "        self._to_linear = None\n",
    "        self.convs(x)\n",
    "        \n",
    "        self.fc1 = nn.Linear(self._to_linear,512)\n",
    "        self.fc2 = nn.Linear(512,2)\n",
    "        \n",
    "    def convs(self,x):\n",
    "        x = F.max_pool2d(F.relu(self.conv1(x)), (2,2)) \n",
    "        x = F.max_pool2d(F.relu(self.conv2(x)), (2,2)) \n",
    "        x = F.max_pool2d(F.relu(self.conv3(x)), (2,2)) \n",
    "        \n",
    "      #  print(x[0].shape)\n",
    "        if self._to_linear is None:\n",
    "            self._to_linear = x[0].shape[0]*x[0].shape[1]*x[0].shape[2]\n",
    "        return x\n",
    "    \n",
    "    def forward(self, x):\n",
    "        x = self.convs(x)\n",
    "        x = x.view(-1, self._to_linear)\n",
    "        x = F.relu(self.fc1(x))\n",
    "        x = self.fc2(x)\n",
    "        return F.softmax(x, dim=1)\n",
    "        \n",
    "        \n",
    "     "
   ]
  },
  {
   "cell_type": "code",
   "execution_count": 28,
   "id": "19064ab4",
   "metadata": {},
   "outputs": [],
   "source": [
    "net = Net()"
   ]
  },
  {
   "cell_type": "code",
   "execution_count": 29,
   "id": "0356228c",
   "metadata": {},
   "outputs": [
    {
     "name": "stdout",
     "output_type": "stream",
     "text": [
      "22452\n",
      "2494\n"
     ]
    }
   ],
   "source": [
    "import torch.optim as optim\n",
    "\n",
    "optimizer = optim.Adam(net.parameters(), lr =0.001)\n",
    "loss_function = nn.MSELoss()\n",
    "\n",
    "X = torch.Tensor([i[0] for i in training_data]).view(-1,50,50)\n",
    "X = X/255.0\n",
    "y = torch.Tensor([i[1] for i in training_data])\n",
    "\n",
    "VAL_PCT = 0.1\n",
    "val_size = int(len(X)*VAL_PCT)\n",
    "#print(val_size)\n",
    "\n",
    "train_X = X[:-val_size]\n",
    "train_y = y[:-val_size]\n",
    "\n",
    "test_X = X[-val_size:]\n",
    "test_y = y[-val_size:]\n",
    "\n",
    "print(len(train_X))\n",
    "print(len(test_X))\n",
    "\n"
   ]
  },
  {
   "cell_type": "code",
   "execution_count": 30,
   "id": "7e9d4818",
   "metadata": {},
   "outputs": [
    {
     "name": "stderr",
     "output_type": "stream",
     "text": [
      "\n",
      "  0%|          | 0/225 [00:00<?, ?it/s]\u001b[A\n",
      "  0%|          | 1/225 [00:00<01:22,  2.71it/s]\u001b[A\n",
      "  1%|          | 2/225 [00:00<01:32,  2.40it/s]\u001b[A\n",
      "  1%|▏         | 3/225 [00:01<01:29,  2.48it/s]\u001b[A\n",
      "  2%|▏         | 4/225 [00:01<01:32,  2.39it/s]\u001b[A\n",
      "  2%|▏         | 5/225 [00:02<01:32,  2.38it/s]\u001b[A\n",
      "  3%|▎         | 6/225 [00:02<01:34,  2.31it/s]\u001b[A\n",
      "  3%|▎         | 7/225 [00:02<01:34,  2.31it/s]\u001b[A\n",
      "  4%|▎         | 8/225 [00:03<01:32,  2.35it/s]\u001b[A\n",
      "  4%|▍         | 9/225 [00:03<01:32,  2.34it/s]\u001b[A\n",
      "  4%|▍         | 10/225 [00:04<01:30,  2.38it/s]\u001b[A\n",
      "  5%|▍         | 11/225 [00:04<01:31,  2.34it/s]\u001b[A\n",
      "  5%|▌         | 12/225 [00:05<01:32,  2.31it/s]\u001b[A\n",
      "  6%|▌         | 13/225 [00:05<01:32,  2.30it/s]\u001b[A\n",
      "  6%|▌         | 14/225 [00:06<01:33,  2.26it/s]\u001b[A\n",
      "  7%|▋         | 15/225 [00:06<01:33,  2.25it/s]\u001b[A\n",
      "  7%|▋         | 16/225 [00:06<01:30,  2.30it/s]\u001b[A\n",
      "  8%|▊         | 17/225 [00:07<01:32,  2.26it/s]\u001b[A\n",
      "  8%|▊         | 18/225 [00:07<01:31,  2.26it/s]\u001b[A\n",
      "  8%|▊         | 19/225 [00:08<01:32,  2.23it/s]\u001b[A\n",
      "  9%|▉         | 20/225 [00:08<01:30,  2.26it/s]\u001b[A\n",
      "  9%|▉         | 21/225 [00:09<01:28,  2.31it/s]\u001b[A\n",
      " 10%|▉         | 22/225 [00:09<01:28,  2.29it/s]\u001b[A\n",
      " 10%|█         | 23/225 [00:09<01:27,  2.32it/s]\u001b[A\n",
      " 11%|█         | 24/225 [00:10<01:27,  2.31it/s]\u001b[A\n",
      " 11%|█         | 25/225 [00:10<01:27,  2.28it/s]\u001b[A\n",
      " 12%|█▏        | 26/225 [00:11<01:29,  2.22it/s]\u001b[A\n",
      " 12%|█▏        | 27/225 [00:11<01:29,  2.21it/s]\u001b[A\n",
      " 12%|█▏        | 28/225 [00:12<01:28,  2.23it/s]\u001b[A\n",
      " 13%|█▎        | 29/225 [00:12<01:25,  2.29it/s]\u001b[A\n",
      " 13%|█▎        | 30/225 [00:13<01:25,  2.27it/s]\u001b[A\n",
      " 14%|█▍        | 31/225 [00:13<01:23,  2.31it/s]\u001b[A\n",
      " 14%|█▍        | 32/225 [00:13<01:23,  2.30it/s]\u001b[A\n",
      " 15%|█▍        | 33/225 [00:14<01:24,  2.27it/s]\u001b[A\n",
      " 15%|█▌        | 34/225 [00:14<01:23,  2.28it/s]\u001b[A\n",
      " 16%|█▌        | 35/225 [00:15<01:24,  2.25it/s]\u001b[A\n",
      " 16%|█▌        | 36/225 [00:15<01:23,  2.26it/s]\u001b[A\n",
      " 16%|█▋        | 37/225 [00:16<01:21,  2.30it/s]\u001b[A\n",
      " 17%|█▋        | 38/225 [00:16<01:22,  2.28it/s]\u001b[A\n",
      " 17%|█▋        | 39/225 [00:16<01:19,  2.35it/s]\u001b[A\n",
      " 18%|█▊        | 40/225 [00:17<01:18,  2.35it/s]\u001b[A\n",
      " 18%|█▊        | 41/225 [00:17<01:20,  2.29it/s]\u001b[A\n",
      " 19%|█▊        | 42/225 [00:18<01:19,  2.30it/s]\u001b[A\n",
      " 19%|█▉        | 43/225 [00:18<01:20,  2.25it/s]\u001b[A\n",
      " 20%|█▉        | 44/225 [00:19<01:19,  2.26it/s]\u001b[A\n",
      " 20%|██        | 45/225 [00:19<01:17,  2.31it/s]\u001b[A\n",
      " 20%|██        | 46/225 [00:19<01:16,  2.34it/s]\u001b[A\n",
      " 21%|██        | 47/225 [00:20<01:15,  2.37it/s]\u001b[A\n",
      " 21%|██▏       | 48/225 [00:20<01:14,  2.37it/s]\u001b[A\n",
      " 22%|██▏       | 49/225 [00:21<01:15,  2.34it/s]\u001b[A\n",
      " 22%|██▏       | 50/225 [00:21<01:15,  2.33it/s]\u001b[A\n",
      " 23%|██▎       | 51/225 [00:22<01:15,  2.29it/s]\u001b[A\n",
      " 23%|██▎       | 52/225 [00:22<01:14,  2.31it/s]\u001b[A\n",
      " 24%|██▎       | 53/225 [00:23<01:14,  2.31it/s]\u001b[A\n",
      " 24%|██▍       | 54/225 [00:23<01:13,  2.31it/s]\u001b[A\n",
      " 24%|██▍       | 55/225 [00:23<01:13,  2.32it/s]\u001b[A\n",
      " 25%|██▍       | 56/225 [00:24<01:12,  2.34it/s]\u001b[A\n",
      " 25%|██▌       | 57/225 [00:24<01:12,  2.30it/s]\u001b[A\n",
      " 26%|██▌       | 58/225 [00:25<01:11,  2.34it/s]\u001b[A\n",
      " 26%|██▌       | 59/225 [00:25<01:12,  2.28it/s]\u001b[A\n",
      " 27%|██▋       | 60/225 [00:26<01:12,  2.28it/s]\u001b[A\n",
      " 27%|██▋       | 61/225 [00:26<01:11,  2.29it/s]\u001b[A\n",
      " 28%|██▊       | 62/225 [00:26<01:11,  2.29it/s]\u001b[A\n",
      " 28%|██▊       | 63/225 [00:27<01:09,  2.33it/s]\u001b[A\n",
      " 28%|██▊       | 64/225 [00:27<01:09,  2.31it/s]\u001b[A\n",
      " 29%|██▉       | 65/225 [00:28<01:09,  2.29it/s]\u001b[A\n",
      " 29%|██▉       | 66/225 [00:28<01:10,  2.25it/s]\u001b[A\n",
      " 30%|██▉       | 67/225 [00:29<01:10,  2.24it/s]\u001b[A\n",
      " 30%|███       | 68/225 [00:29<01:09,  2.26it/s]\u001b[A\n",
      " 31%|███       | 69/225 [00:29<01:07,  2.30it/s]\u001b[A\n",
      " 31%|███       | 70/225 [00:30<01:07,  2.29it/s]\u001b[A\n",
      " 32%|███▏      | 71/225 [00:30<01:05,  2.34it/s]\u001b[A\n",
      " 32%|███▏      | 72/225 [00:31<01:05,  2.32it/s]\u001b[A\n",
      " 32%|███▏      | 73/225 [00:31<01:06,  2.30it/s]\u001b[A\n",
      " 33%|███▎      | 74/225 [00:32<01:05,  2.32it/s]\u001b[A\n",
      " 33%|███▎      | 75/225 [00:32<01:06,  2.25it/s]\u001b[A\n",
      " 34%|███▍      | 76/225 [00:33<01:06,  2.25it/s]\u001b[A\n",
      " 34%|███▍      | 77/225 [00:33<01:04,  2.31it/s]\u001b[A\n",
      " 35%|███▍      | 78/225 [00:33<01:04,  2.28it/s]\u001b[A\n",
      " 35%|███▌      | 79/225 [00:34<01:02,  2.33it/s]\u001b[A\n",
      " 36%|███▌      | 80/225 [00:34<01:02,  2.31it/s]\u001b[A\n",
      " 36%|███▌      | 81/225 [00:35<01:03,  2.28it/s]\u001b[A\n",
      " 36%|███▋      | 82/225 [00:35<01:03,  2.25it/s]\u001b[A\n",
      " 37%|███▋      | 83/225 [00:36<01:03,  2.22it/s]\u001b[A\n",
      " 37%|███▋      | 84/225 [00:36<01:02,  2.24it/s]\u001b[A\n",
      " 38%|███▊      | 85/225 [00:36<01:00,  2.30it/s]\u001b[A\n",
      " 38%|███▊      | 86/225 [00:37<01:00,  2.29it/s]\u001b[A\n",
      " 39%|███▊      | 87/225 [00:37<00:59,  2.33it/s]\u001b[A\n",
      " 39%|███▉      | 88/225 [00:38<00:57,  2.37it/s]\u001b[A\n",
      " 40%|███▉      | 89/225 [00:38<00:58,  2.34it/s]\u001b[A\n",
      " 40%|████      | 90/225 [00:39<00:57,  2.35it/s]\u001b[A\n",
      " 40%|████      | 91/225 [00:39<00:58,  2.30it/s]\u001b[A\n",
      " 41%|████      | 92/225 [00:40<00:58,  2.28it/s]\u001b[A\n",
      " 41%|████▏     | 93/225 [00:40<00:56,  2.33it/s]\u001b[A\n",
      " 42%|████▏     | 94/225 [00:40<00:56,  2.30it/s]\u001b[A\n",
      " 42%|████▏     | 95/225 [00:41<00:55,  2.36it/s]\u001b[A\n",
      " 43%|████▎     | 96/225 [00:41<00:54,  2.36it/s]\u001b[A\n",
      " 43%|████▎     | 97/225 [00:42<00:55,  2.32it/s]\u001b[A\n",
      " 44%|████▎     | 98/225 [00:42<00:55,  2.31it/s]\u001b[A\n",
      " 44%|████▍     | 99/225 [00:43<00:55,  2.26it/s]\u001b[A\n",
      " 44%|████▍     | 100/225 [00:43<00:55,  2.27it/s]\u001b[A\n",
      " 45%|████▍     | 101/225 [00:43<00:54,  2.28it/s]\u001b[A\n",
      " 45%|████▌     | 102/225 [00:44<00:54,  2.26it/s]\u001b[A\n",
      " 46%|████▌     | 103/225 [00:44<00:52,  2.32it/s]\u001b[A\n",
      " 46%|████▌     | 104/225 [00:45<00:51,  2.33it/s]\u001b[A\n",
      " 47%|████▋     | 105/225 [00:45<00:52,  2.29it/s]\u001b[A\n",
      " 47%|████▋     | 106/225 [00:46<00:52,  2.29it/s]\u001b[A\n",
      " 48%|████▊     | 107/225 [00:46<00:52,  2.25it/s]\u001b[A\n",
      " 48%|████▊     | 108/225 [00:46<00:51,  2.27it/s]\u001b[A\n",
      " 48%|████▊     | 109/225 [00:47<00:50,  2.31it/s]\u001b[A\n",
      " 49%|████▉     | 110/225 [00:47<00:49,  2.32it/s]\u001b[A\n",
      " 49%|████▉     | 111/225 [00:48<00:48,  2.33it/s]\u001b[A\n",
      " 50%|████▉     | 112/225 [00:48<00:48,  2.33it/s]\u001b[A\n",
      " 50%|█████     | 113/225 [00:49<00:48,  2.32it/s]\u001b[A\n",
      " 51%|█████     | 114/225 [00:49<00:47,  2.32it/s]\u001b[A\n",
      " 51%|█████     | 115/225 [00:49<00:48,  2.29it/s]\u001b[A\n",
      " 52%|█████▏    | 116/225 [00:50<00:47,  2.29it/s]\u001b[A\n",
      " 52%|█████▏    | 117/225 [00:50<00:46,  2.31it/s]\u001b[A\n",
      " 52%|█████▏    | 118/225 [00:51<00:46,  2.31it/s]\u001b[A\n",
      " 53%|█████▎    | 119/225 [00:51<00:45,  2.33it/s]\u001b[A\n",
      " 53%|█████▎    | 120/225 [00:52<00:44,  2.36it/s]\u001b[A\n",
      " 54%|█████▍    | 121/225 [00:52<00:44,  2.35it/s]\u001b[A\n",
      " 54%|█████▍    | 122/225 [00:52<00:44,  2.32it/s]\u001b[A\n",
      " 55%|█████▍    | 123/225 [00:53<00:44,  2.27it/s]\u001b[A\n",
      " 55%|█████▌    | 124/225 [00:53<00:44,  2.26it/s]\u001b[A\n",
      " 56%|█████▌    | 125/225 [00:54<00:43,  2.28it/s]\u001b[A\n",
      " 56%|█████▌    | 126/225 [00:54<00:42,  2.31it/s]\u001b[A\n",
      " 56%|█████▋    | 127/225 [00:55<00:41,  2.36it/s]\u001b[A\n",
      " 57%|█████▋    | 128/225 [00:55<00:41,  2.36it/s]\u001b[A\n",
      " 57%|█████▋    | 129/225 [00:56<00:41,  2.32it/s]\u001b[A\n",
      " 58%|█████▊    | 130/225 [00:56<00:40,  2.33it/s]\u001b[A\n",
      " 58%|█████▊    | 131/225 [00:56<00:41,  2.29it/s]\u001b[A\n",
      " 59%|█████▊    | 132/225 [00:57<00:40,  2.29it/s]\u001b[A\n",
      " 59%|█████▉    | 133/225 [00:57<00:39,  2.33it/s]\u001b[A\n",
      " 60%|█████▉    | 134/225 [00:58<00:39,  2.32it/s]\u001b[A\n",
      " 60%|██████    | 135/225 [00:58<00:38,  2.36it/s]\u001b[A\n",
      " 60%|██████    | 136/225 [00:59<00:37,  2.38it/s]\u001b[A\n",
      " 61%|██████    | 137/225 [00:59<00:37,  2.34it/s]\u001b[A\n",
      " 61%|██████▏   | 138/225 [00:59<00:37,  2.33it/s]\u001b[A\n",
      " 62%|██████▏   | 139/225 [01:00<00:37,  2.29it/s]\u001b[A\n",
      " 62%|██████▏   | 140/225 [01:00<00:37,  2.29it/s]\u001b[A\n",
      " 63%|██████▎   | 141/225 [01:01<00:36,  2.31it/s]\u001b[A\n",
      " 63%|██████▎   | 142/225 [01:01<00:36,  2.30it/s]\u001b[A\n",
      " 64%|██████▎   | 143/225 [01:02<00:34,  2.37it/s]\u001b[A\n",
      " 64%|██████▍   | 144/225 [01:02<00:34,  2.34it/s]\u001b[A\n",
      " 64%|██████▍   | 145/225 [01:02<00:34,  2.30it/s]\u001b[A\n",
      " 65%|██████▍   | 146/225 [01:03<00:34,  2.30it/s]\u001b[A\n",
      " 65%|██████▌   | 147/225 [01:03<00:34,  2.28it/s]\u001b[A\n",
      " 66%|██████▌   | 148/225 [01:04<00:33,  2.29it/s]\u001b[A\n",
      " 66%|██████▌   | 149/225 [01:04<00:32,  2.33it/s]\u001b[A\n",
      " 67%|██████▋   | 150/225 [01:05<00:32,  2.33it/s]\u001b[A\n",
      " 67%|██████▋   | 151/225 [01:05<00:30,  2.39it/s]\u001b[A\n",
      " 68%|██████▊   | 152/225 [01:05<00:30,  2.39it/s]\u001b[A\n",
      " 68%|██████▊   | 153/225 [01:06<00:30,  2.35it/s]\u001b[A\n",
      " 68%|██████▊   | 154/225 [01:06<00:30,  2.34it/s]\u001b[A\n",
      " 69%|██████▉   | 155/225 [01:07<00:30,  2.28it/s]\u001b[A\n",
      " 69%|██████▉   | 156/225 [01:07<00:29,  2.30it/s]\u001b[A\n",
      " 70%|██████▉   | 157/225 [01:08<00:28,  2.37it/s]\u001b[A\n",
      " 70%|███████   | 158/225 [01:08<00:28,  2.34it/s]\u001b[A\n",
      " 71%|███████   | 159/225 [01:08<00:27,  2.38it/s]\u001b[A\n",
      " 71%|███████   | 160/225 [01:09<00:27,  2.38it/s]\u001b[A\n",
      " 72%|███████▏  | 161/225 [01:09<00:27,  2.35it/s]\u001b[A\n",
      " 72%|███████▏  | 162/225 [01:10<00:26,  2.35it/s]\u001b[A\n",
      " 72%|███████▏  | 163/225 [01:10<00:26,  2.30it/s]\u001b[A\n",
      " 73%|███████▎  | 164/225 [01:11<00:26,  2.29it/s]\u001b[A\n",
      " 73%|███████▎  | 165/225 [01:11<00:26,  2.30it/s]\u001b[A\n",
      " 74%|███████▍  | 166/225 [01:11<00:25,  2.31it/s]\u001b[A\n",
      " 74%|███████▍  | 167/225 [01:12<00:24,  2.35it/s]\u001b[A\n",
      " 75%|███████▍  | 168/225 [01:12<00:24,  2.33it/s]\u001b[A\n",
      " 75%|███████▌  | 169/225 [01:13<00:24,  2.30it/s]\u001b[A\n",
      " 76%|███████▌  | 170/225 [01:13<00:23,  2.30it/s]\u001b[A\n",
      " 76%|███████▌  | 171/225 [01:14<00:23,  2.26it/s]\u001b[A\n",
      " 76%|███████▋  | 172/225 [01:14<00:23,  2.27it/s]\u001b[A\n",
      " 77%|███████▋  | 173/225 [01:14<00:22,  2.29it/s]\u001b[A\n",
      " 77%|███████▋  | 174/225 [01:15<00:22,  2.29it/s]\u001b[A\n",
      " 78%|███████▊  | 175/225 [01:15<00:21,  2.34it/s]\u001b[A\n",
      " 78%|███████▊  | 176/225 [01:16<00:21,  2.33it/s]\u001b[A\n",
      " 79%|███████▊  | 177/225 [01:16<00:20,  2.29it/s]\u001b[A\n",
      " 79%|███████▉  | 178/225 [01:17<00:20,  2.26it/s]\u001b[A\n",
      " 80%|███████▉  | 179/225 [01:17<00:20,  2.26it/s]\u001b[A\n",
      " 80%|████████  | 180/225 [01:18<00:19,  2.25it/s]\u001b[A\n",
      " 80%|████████  | 181/225 [01:18<00:19,  2.31it/s]\u001b[A\n",
      " 81%|████████  | 182/225 [01:18<00:18,  2.30it/s]\u001b[A\n",
      " 81%|████████▏ | 183/225 [01:19<00:17,  2.35it/s]\u001b[A\n",
      " 82%|████████▏ | 184/225 [01:19<00:17,  2.38it/s]\u001b[A\n",
      " 82%|████████▏ | 185/225 [01:20<00:17,  2.34it/s]\u001b[A\n",
      " 83%|████████▎ | 186/225 [01:20<00:16,  2.31it/s]\u001b[A\n",
      " 83%|████████▎ | 187/225 [01:21<00:16,  2.27it/s]\u001b[A\n",
      " 84%|████████▎ | 188/225 [01:21<00:16,  2.26it/s]\u001b[A\n",
      " 84%|████████▍ | 189/225 [01:21<00:15,  2.29it/s]\u001b[A\n",
      " 84%|████████▍ | 190/225 [01:22<00:15,  2.30it/s]\u001b[A\n",
      " 85%|████████▍ | 191/225 [01:22<00:14,  2.34it/s]\u001b[A\n",
      " 85%|████████▌ | 192/225 [01:23<00:13,  2.37it/s]\u001b[A\n",
      " 86%|████████▌ | 193/225 [01:23<00:13,  2.35it/s]\u001b[A\n",
      " 86%|████████▌ | 194/225 [01:24<00:13,  2.36it/s]\u001b[A\n",
      " 87%|████████▋ | 195/225 [01:24<00:12,  2.33it/s]\u001b[A\n",
      " 87%|████████▋ | 196/225 [01:24<00:12,  2.34it/s]\u001b[A\n",
      " 88%|████████▊ | 197/225 [01:25<00:11,  2.38it/s]\u001b[A\n",
      " 88%|████████▊ | 198/225 [01:25<00:11,  2.34it/s]\u001b[A\n",
      " 88%|████████▊ | 199/225 [01:26<00:10,  2.39it/s]\u001b[A\n",
      " 89%|████████▉ | 200/225 [01:26<00:10,  2.41it/s]\u001b[A\n",
      " 89%|████████▉ | 201/225 [01:26<00:10,  2.35it/s]\u001b[A\n",
      " 90%|████████▉ | 202/225 [01:27<00:09,  2.32it/s]\u001b[A\n",
      " 90%|█████████ | 203/225 [01:27<00:09,  2.26it/s]\u001b[A\n",
      " 91%|█████████ | 204/225 [01:28<00:09,  2.29it/s]\u001b[A\n",
      " 91%|█████████ | 205/225 [01:28<00:08,  2.32it/s]\u001b[A\n",
      " 92%|█████████▏| 206/225 [01:29<00:08,  2.33it/s]\u001b[A\n",
      " 92%|█████████▏| 207/225 [01:29<00:07,  2.36it/s]\u001b[A\n",
      " 92%|█████████▏| 208/225 [01:29<00:07,  2.40it/s]\u001b[A\n",
      " 93%|█████████▎| 209/225 [01:30<00:06,  2.35it/s]\u001b[A\n",
      " 93%|█████████▎| 210/225 [01:30<00:06,  2.34it/s]\u001b[A\n",
      " 94%|█████████▍| 211/225 [01:31<00:06,  2.29it/s]\u001b[A\n",
      " 94%|█████████▍| 212/225 [01:31<00:05,  2.28it/s]\u001b[A\n",
      " 95%|█████████▍| 213/225 [01:32<00:05,  2.32it/s]\u001b[A\n",
      " 95%|█████████▌| 214/225 [01:32<00:04,  2.32it/s]\u001b[A\n",
      " 96%|█████████▌| 215/225 [01:32<00:04,  2.39it/s]\u001b[A\n",
      " 96%|█████████▌| 216/225 [01:33<00:03,  2.42it/s]\u001b[A\n",
      " 96%|█████████▋| 217/225 [01:33<00:03,  2.37it/s]\u001b[A\n",
      " 97%|█████████▋| 218/225 [01:34<00:02,  2.38it/s]\u001b[A\n",
      " 97%|█████████▋| 219/225 [01:34<00:02,  2.39it/s]\u001b[A\n",
      " 98%|█████████▊| 220/225 [01:35<00:02,  2.34it/s]\u001b[A\n",
      " 98%|█████████▊| 221/225 [01:35<00:01,  2.32it/s]\u001b[A\n",
      " 99%|█████████▊| 222/225 [01:36<00:01,  2.30it/s]\u001b[A\n",
      " 99%|█████████▉| 223/225 [01:36<00:00,  2.37it/s]\u001b[A\n",
      "100%|█████████▉| 224/225 [01:36<00:00,  2.36it/s]\u001b[A\n",
      "100%|██████████| 225/225 [01:37<00:00,  2.32it/s]\u001b[A"
     ]
    },
    {
     "name": "stdout",
     "output_type": "stream",
     "text": [
      "tensor(0.2453, grad_fn=<MseLossBackward>)\n"
     ]
    },
    {
     "name": "stderr",
     "output_type": "stream",
     "text": [
      "\n"
     ]
    }
   ],
   "source": [
    "BATCH_SIZE = 100\n",
    "EPOCHS = 1\n",
    "\n",
    "for epoch in range(EPOCHS):\n",
    "    for i in tqdm(range(0, len(train_X), BATCH_SIZE)):\n",
    "        #print(i, i+BATCH_SIZE)\n",
    "        batch_X = train_X[i:i+BATCH_SIZE].view(-1,1,50,50)\n",
    "        batch_y = train_y[i:i+BATCH_SIZE]\n",
    "        \n",
    "        net.zero_grad()\n",
    "        outputs = net(batch_X)\n",
    "        loss = loss_function(outputs,batch_y)\n",
    "        loss.backward()\n",
    "        optimizer.step()\n",
    "        \n",
    "print(loss)"
   ]
  },
  {
   "cell_type": "code",
   "execution_count": null,
   "id": "c6d1169f",
   "metadata": {},
   "outputs": [],
   "source": []
  },
  {
   "cell_type": "code",
   "execution_count": 36,
   "id": "329d574a",
   "metadata": {},
   "outputs": [
    {
     "name": "stderr",
     "output_type": "stream",
     "text": [
      "\n",
      "  0%|          | 0/2494 [00:00<?, ?it/s]\u001b[A\n",
      "  1%|▏         | 35/2494 [00:00<00:07, 349.21it/s]\u001b[A\n",
      "  3%|▎         | 80/2494 [00:00<00:05, 404.99it/s]\u001b[A\n",
      "  5%|▌         | 126/2494 [00:00<00:05, 428.84it/s]\u001b[A\n",
      "  7%|▋         | 172/2494 [00:00<00:05, 439.12it/s]\u001b[A\n",
      "  9%|▊         | 217/2494 [00:00<00:05, 441.59it/s]\u001b[A\n",
      " 11%|█         | 263/2494 [00:00<00:04, 447.55it/s]\u001b[A\n",
      " 12%|█▏        | 308/2494 [00:00<00:04, 447.12it/s]\u001b[A\n",
      " 14%|█▍        | 354/2494 [00:00<00:04, 449.46it/s]\u001b[A\n",
      " 16%|█▌        | 399/2494 [00:00<00:04, 444.98it/s]\u001b[A\n",
      " 18%|█▊        | 445/2494 [00:01<00:04, 448.10it/s]\u001b[A\n",
      " 20%|█▉        | 490/2494 [00:01<00:04, 447.59it/s]\u001b[A\n",
      " 21%|██▏       | 536/2494 [00:01<00:04, 449.49it/s]\u001b[A\n",
      " 23%|██▎       | 581/2494 [00:01<00:04, 447.75it/s]\u001b[A\n",
      " 25%|██▌       | 626/2494 [00:01<00:04, 443.08it/s]\u001b[A\n",
      " 27%|██▋       | 671/2494 [00:01<00:04, 445.02it/s]\u001b[A\n",
      " 29%|██▊       | 716/2494 [00:01<00:04, 443.22it/s]\u001b[A\n",
      " 31%|███       | 761/2494 [00:01<00:03, 439.36it/s]\u001b[A\n",
      " 32%|███▏      | 805/2494 [00:01<00:03, 434.42it/s]\u001b[A\n",
      " 34%|███▍      | 849/2494 [00:01<00:03, 428.60it/s]\u001b[A\n",
      " 36%|███▌      | 894/2494 [00:02<00:03, 434.47it/s]\u001b[A\n",
      " 38%|███▊      | 941/2494 [00:02<00:03, 444.78it/s]\u001b[A\n",
      " 40%|███▉      | 991/2494 [00:02<00:03, 459.91it/s]\u001b[A\n",
      " 42%|████▏     | 1038/2494 [00:02<00:03, 459.14it/s]\u001b[A\n",
      " 43%|████▎     | 1084/2494 [00:02<00:03, 425.46it/s]\u001b[A\n",
      " 45%|████▌     | 1128/2494 [00:02<00:03, 398.85it/s]\u001b[A\n",
      " 47%|████▋     | 1170/2494 [00:02<00:03, 403.91it/s]\u001b[A\n",
      " 49%|████▊     | 1213/2494 [00:02<00:03, 409.64it/s]\u001b[A\n",
      " 50%|█████     | 1255/2494 [00:02<00:03, 408.48it/s]\u001b[A\n",
      " 52%|█████▏    | 1297/2494 [00:03<00:02, 411.23it/s]\u001b[A\n",
      " 54%|█████▎    | 1340/2494 [00:03<00:02, 415.76it/s]\u001b[A\n",
      " 55%|█████▌    | 1382/2494 [00:03<00:02, 416.70it/s]\u001b[A\n",
      " 57%|█████▋    | 1425/2494 [00:03<00:02, 419.81it/s]\u001b[A\n",
      " 59%|█████▉    | 1469/2494 [00:03<00:02, 425.04it/s]\u001b[A\n",
      " 61%|██████    | 1514/2494 [00:03<00:02, 432.11it/s]\u001b[A\n",
      " 63%|██████▎   | 1560/2494 [00:03<00:02, 438.53it/s]\u001b[A\n",
      " 65%|██████▍   | 1609/2494 [00:03<00:01, 452.55it/s]\u001b[A\n",
      " 66%|██████▋   | 1655/2494 [00:03<00:01, 449.93it/s]\u001b[A\n",
      " 68%|██████▊   | 1701/2494 [00:03<00:01, 444.13it/s]\u001b[A\n",
      " 70%|███████   | 1746/2494 [00:04<00:01, 443.90it/s]\u001b[A\n",
      " 72%|███████▏  | 1791/2494 [00:04<00:01, 443.45it/s]\u001b[A\n",
      " 74%|███████▎  | 1836/2494 [00:04<00:01, 443.85it/s]\u001b[A\n",
      " 75%|███████▌  | 1881/2494 [00:04<00:01, 444.07it/s]\u001b[A\n",
      " 77%|███████▋  | 1926/2494 [00:04<00:01, 443.26it/s]\u001b[A\n",
      " 79%|███████▉  | 1971/2494 [00:04<00:01, 444.16it/s]\u001b[A\n",
      " 81%|████████  | 2016/2494 [00:04<00:01, 444.24it/s]\u001b[A\n",
      " 83%|████████▎ | 2061/2494 [00:04<00:00, 444.01it/s]\u001b[A\n",
      " 84%|████████▍ | 2106/2494 [00:04<00:00, 443.37it/s]\u001b[A\n",
      " 86%|████████▌ | 2151/2494 [00:04<00:00, 437.93it/s]\u001b[A\n",
      " 88%|████████▊ | 2196/2494 [00:05<00:00, 440.25it/s]\u001b[A\n",
      " 90%|████████▉ | 2241/2494 [00:05<00:00, 439.24it/s]\u001b[A\n",
      " 92%|█████████▏| 2289/2494 [00:05<00:00, 449.43it/s]\u001b[A\n",
      " 94%|█████████▎| 2334/2494 [00:05<00:00, 445.95it/s]\u001b[A\n",
      " 95%|█████████▌| 2379/2494 [00:05<00:00, 442.69it/s]\u001b[A\n",
      " 97%|█████████▋| 2424/2494 [00:05<00:00, 439.67it/s]\u001b[A\n",
      "100%|██████████| 2494/2494 [00:05<00:00, 435.64it/s]\u001b[A"
     ]
    },
    {
     "name": "stdout",
     "output_type": "stream",
     "text": [
      "1669\n",
      "2494\n",
      "accuracy 0.669\n"
     ]
    },
    {
     "name": "stderr",
     "output_type": "stream",
     "text": [
      "\n"
     ]
    }
   ],
   "source": [
    "correct = 0\n",
    "total = 0\n",
    "with torch.no_grad():\n",
    "    for i in tqdm(range(len(test_X))):\n",
    "        real_class = torch.argmax(test_y[i])\n",
    "        net_out = net (test_X[i].view(-1,1,50,50))[0]\n",
    "        predicted_class = torch.argmax(net_out)\n",
    "        if predicted_class == real_class:\n",
    "            correct +=1\n",
    "        total +=1\n",
    "        \n",
    "print(correct)\n",
    "print(total)\n",
    "print(\"accuracy\", round(correct/total,3))\n",
    "        \n",
    "        "
   ]
  },
  {
   "cell_type": "code",
   "execution_count": null,
   "id": "03bd7724",
   "metadata": {},
   "outputs": [],
   "source": []
  }
 ],
 "metadata": {
  "kernelspec": {
   "display_name": "conda_pytorch_p36",
   "language": "python",
   "name": "conda_pytorch_p36"
  },
  "language_info": {
   "codemirror_mode": {
    "name": "ipython",
    "version": 3
   },
   "file_extension": ".py",
   "mimetype": "text/x-python",
   "name": "python",
   "nbconvert_exporter": "python",
   "pygments_lexer": "ipython3",
   "version": "3.6.13"
  }
 },
 "nbformat": 4,
 "nbformat_minor": 5
}
